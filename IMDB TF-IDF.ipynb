{
 "cells": [
  {
   "cell_type": "markdown",
   "id": "11d5e7d8",
   "metadata": {},
   "source": [
    "# Анализ отзывов IMDB с библиотеками *scikit-learn* и *nltk*\n",
    "\n",
    "Создадим линейный классификатор, который будет с точностью не менее 95% определять негативные отзывы к фильмам. То есть задача состоит в нахождении такого порога вероятности отнесения наблюдения к положительному классу, при котором метрика **negative predictive value (NPV)** будет иметь значение не менее 0.95. После этого оценим некоторые другие метрики модели.\n",
    "\n",
    "[Датасет](http://ai.stanford.edu/~amaas/data/sentiment/aclImdb_v1.tar.gz) с подробным описанием."
   ]
  },
  {
   "cell_type": "markdown",
   "id": "2eb59dd8",
   "metadata": {},
   "source": [
    "Импортируем все необходимые модули, функции и классы."
   ]
  },
  {
   "cell_type": "code",
   "execution_count": 1,
   "id": "e55719e2",
   "metadata": {},
   "outputs": [],
   "source": [
    "import numpy as np\n",
    "import matplotlib.pyplot as plt\n",
    "import seaborn as sns\n",
    "import string\n",
    "from sklearn.datasets import load_files\n",
    "from sklearn.feature_extraction.text import TfidfVectorizer\n",
    "from sklearn.linear_model import LogisticRegression\n",
    "from sklearn.model_selection import StratifiedKFold, GridSearchCV\n",
    "from sklearn.pipeline import Pipeline\n",
    "from sklearn.metrics import make_scorer\n",
    "from nltk.corpus import stopwords\n",
    "from nltk.tokenize import word_tokenize\n",
    "from nltk.stem import SnowballStemmer"
   ]
  },
  {
   "cell_type": "markdown",
   "id": "bfa81d14",
   "metadata": {},
   "source": [
    "Загружаем тренировочный и тестовый датасеты и сразу выделяем признаки и целевую переменную для каждого датасета.\n",
    "Для тренировочного датасета необходимо явно указать названия папок с отзывами, т.к. иначе *load_files* загрузит в трейн ещё и содержимое папки **unsup**."
   ]
  },
  {
   "cell_type": "code",
   "execution_count": 2,
   "id": "3fcbc908",
   "metadata": {},
   "outputs": [],
   "source": [
    "reviews_train = load_files('Путь до папки train', categories=['pos', 'neg'])\n",
    "X_train, y_train = reviews_train.data, reviews_train.target"
   ]
  },
  {
   "cell_type": "code",
   "execution_count": 3,
   "id": "911550f3",
   "metadata": {},
   "outputs": [
    {
     "name": "stdout",
     "output_type": "stream",
     "text": [
      "Количество документов в тренировочном датасете: 25000\n"
     ]
    }
   ],
   "source": [
    "print(f'Количество документов в тренировочном датасете: {len(X_train)}')"
   ]
  },
  {
   "cell_type": "code",
   "execution_count": 4,
   "id": "52c696c4",
   "metadata": {},
   "outputs": [],
   "source": [
    "reviews_test = load_files('Путь до папки test')\n",
    "X_test, y_test = reviews_test.data, reviews_test.target"
   ]
  },
  {
   "cell_type": "code",
   "execution_count": 5,
   "id": "0ab964bf",
   "metadata": {},
   "outputs": [
    {
     "name": "stdout",
     "output_type": "stream",
     "text": [
      "Количество документов в тестовом датасете: 25000\n"
     ]
    }
   ],
   "source": [
    "print(f'Количество документов в тестовом датасете: {len(X_test)}')"
   ]
  },
  {
   "cell_type": "markdown",
   "id": "35ec7198",
   "metadata": {},
   "source": [
    "Реализуем токенайзер, который будет удалять из токенов знаки пунктуации, стоп-слова и производить стемминг."
   ]
  },
  {
   "cell_type": "code",
   "execution_count": 6,
   "id": "ea683ace",
   "metadata": {},
   "outputs": [],
   "source": [
    "snowball = SnowballStemmer(language='english')\n",
    "stop_words = stopwords.words('english')\n",
    "\n",
    "def tokenize_sentence(sentence: str, remove_stop_words: bool=True):\n",
    "    tokens = word_tokenize(sentence, language='english')\n",
    "    tokens = [i for i in tokens if i not in string.punctuation]\n",
    "    if remove_stop_words:\n",
    "        tokens = [i for i in tokens if i not in stop_words]\n",
    "    tokens = [snowball.stem(i) for i in tokens]\n",
    "    return tokens"
   ]
  },
  {
   "cell_type": "markdown",
   "id": "67129ec6",
   "metadata": {},
   "source": [
    "Напишем универсальную функцию для расчёта метрик, которые нам понадобятся, а также для расчёта матрицы ошибок."
   ]
  },
  {
   "cell_type": "code",
   "execution_count": 7,
   "id": "e6d0d4f8",
   "metadata": {},
   "outputs": [],
   "source": [
    "def get_score(y_true: np.array, y_pred_proba: np.array, score: str='npv', threshold: np.float32=0.5):\n",
    "    y_pred = (y_pred_proba >= threshold).astype(np.int8)\n",
    "    tp, tn, fp, fn = .0, .0, .0, .0\n",
    "    for i, label in enumerate(y_true):\n",
    "        if label==y_pred[i] and label==1:\n",
    "            tp += 1\n",
    "        if label==y_pred[i] and label==0:\n",
    "            tn += 1\n",
    "        if label!=y_pred[i] and label==1:\n",
    "            fn += 1\n",
    "        if label!=y_pred[i] and label==0:\n",
    "            fp += 1\n",
    "    if score=='npv':\n",
    "        return tn/(tn+fn)\n",
    "    elif score=='specificity':\n",
    "        return tn/(tn+fp)\n",
    "    elif score=='confusion_matrix':\n",
    "        return [[tp, fp], [fn, tn]]\n",
    "    else:\n",
    "        raise ValueError('Incorrect metric to calculate')"
   ]
  },
  {
   "cell_type": "markdown",
   "id": "2296dc83",
   "metadata": {},
   "source": [
    "Преобразуем текст в TF-IDF представление. Для *TfidfVectorizer*'а переопределяем токенайзер на наш."
   ]
  },
  {
   "cell_type": "code",
   "execution_count": 8,
   "id": "c29f517d",
   "metadata": {},
   "outputs": [
    {
     "name": "stderr",
     "output_type": "stream",
     "text": [
      "c:\\users\\opens\\appdata\\local\\programs\\python\\python39\\lib\\site-packages\\sklearn\\feature_extraction\\text.py:489: UserWarning: The parameter 'token_pattern' will not be used since 'tokenizer' is not None'\n",
      "  warnings.warn(\"The parameter 'token_pattern' will not be used\"\n"
     ]
    }
   ],
   "source": [
    "vectorizer = TfidfVectorizer(tokenizer=tokenize_sentence).fit(X_train)\n",
    "X_train_tfidf = vectorizer.transform(X_train)"
   ]
  },
  {
   "cell_type": "markdown",
   "id": "2adc85ce",
   "metadata": {},
   "source": [
    "Найдём модель с оптимальным коэффициентом регуляризации с помощью кросс-валидации. Валидироваться будем по метрике **NPV**."
   ]
  },
  {
   "cell_type": "code",
   "execution_count": 9,
   "id": "9b642837",
   "metadata": {},
   "outputs": [
    {
     "data": {
      "text/plain": [
       "GridSearchCV(cv=StratifiedKFold(n_splits=5, random_state=42, shuffle=True),\n",
       "             estimator=LogisticRegression(max_iter=1000, n_jobs=-1),\n",
       "             param_grid={'C': [0.1, 1, 10, 20, 50, 100]},\n",
       "             return_train_score=True,\n",
       "             scoring=make_scorer(get_score, needs_proba=True))"
      ]
     },
     "execution_count": 9,
     "metadata": {},
     "output_type": "execute_result"
    }
   ],
   "source": [
    "skf = StratifiedKFold(shuffle=True, random_state=42)\n",
    "\n",
    "grid_logit = GridSearchCV(LogisticRegression(max_iter=1000, n_jobs=-1), dict(C=[0.1, 1, 10, 20, 50, 100]),\n",
    "                         scoring=make_scorer(get_score, needs_proba=True), cv=skf, return_train_score=True)\n",
    "grid_logit.fit(X_train_tfidf, y_train)"
   ]
  },
  {
   "cell_type": "markdown",
   "id": "c916244b",
   "metadata": {},
   "source": [
    "Построим кривую валидации."
   ]
  },
  {
   "cell_type": "code",
   "execution_count": 10,
   "id": "1a7ee137",
   "metadata": {},
   "outputs": [],
   "source": [
    "def plot_validation_curve(grid):\n",
    "    res = grid.cv_results_\n",
    "    for mean, label in [['mean_train_score', 'Train'], ['mean_test_score', 'Test']]:\n",
    "        plt.plot(np.array([i.get('C') for i in res['params']]), res[mean], label=label, linewidth=3)\n",
    "    plt.legend(fontsize=20, loc=5)\n",
    "    plt.xlabel('C', fontsize=20)\n",
    "    plt.ylabel('NPV', fontsize=20)\n",
    "    sns.set(rc={'font.size': 20, 'xtick.labelsize': 'medium', 'ytick.labelsize': 'medium', 'figure.figsize': (10, 8),\n",
    "                'xtick.labeltop': False, 'xtick.labelbottom': True})\n",
    "    plt.show()"
   ]
  },
  {
   "cell_type": "code",
   "execution_count": 12,
   "id": "4eeaaa6d",
   "metadata": {},
   "outputs": [
    {
     "data": {
      "image/png": "[encoded data removed]",
      "text/plain": [
       "<Figure size 720x576 with 1 Axes>"
      ]
     },
     "metadata": {},
     "output_type": "display_data"
    }
   ],
   "source": [
    "plot_validation_curve(grid_logit)"
   ]
  },
  {
   "cell_type": "markdown",
   "id": "4d8f4047",
   "metadata": {},
   "source": [
    "По кривой валидации видно, что модель переобучается, и для её оптимизации недостаточно только подобрать коэффициент регуляризации. Возможно, стоит изменить функцию регуляризации (параметр *penalty*), либо решающий алгоритм (параметр *solver*), либо вовсе взять за основу модели другой алгоритм.\n",
    "\n",
    "Выберем такой коэффициент регуляризации, при котором разница между метрикой на трейне и на тесте как можно меньше, и при этом значение метрики на тесте должно быть как можно больше. В данном случае, возьмём *C=1*.\n",
    "\n",
    "Напишем пайплайн с оптимальным коэффициентом регуляризации."
   ]
  },
  {
   "cell_type": "code",
   "execution_count": 13,
   "id": "3d99697b",
   "metadata": {},
   "outputs": [
    {
     "data": {
      "text/plain": [
       "Pipeline(steps=[('vectorizer',\n",
       "                 TfidfVectorizer(tokenizer=<function tokenize_sentence at 0x000002003216F700>)),\n",
       "                ('logit', LogisticRegression(C=1, max_iter=1000, n_jobs=-1))])"
      ]
     },
     "execution_count": 13,
     "metadata": {},
     "output_type": "execute_result"
    }
   ],
   "source": [
    "logit_pipe = Pipeline([\n",
    "    ('vectorizer', TfidfVectorizer(tokenizer=tokenize_sentence)),\n",
    "    ('logit', LogisticRegression(C=1, max_iter=1000, n_jobs=-1))\n",
    "])\n",
    "logit_pipe.fit(X_train, y_train)"
   ]
  },
  {
   "cell_type": "markdown",
   "id": "867b338e",
   "metadata": {},
   "source": [
    "Сохраним предсказанные вероятности модели в отдельную переменную (чтобы каждый раз снова не запускать этот достаточно долгий процесс)."
   ]
  },
  {
   "cell_type": "code",
   "execution_count": 14,
   "id": "4c4d3271",
   "metadata": {},
   "outputs": [],
   "source": [
    "probas = logit_pipe.predict_proba(X_test)[:, 1]"
   ]
  },
  {
   "cell_type": "markdown",
   "id": "ac62c02b",
   "metadata": {},
   "source": [
    "Вычислим **NPV** модели с базовым порогом вероятности отнесения наблюдения к положительному классу."
   ]
  },
  {
   "cell_type": "code",
   "execution_count": 15,
   "id": "4c71a67a",
   "metadata": {},
   "outputs": [
    {
     "name": "stdout",
     "output_type": "stream",
     "text": [
      "NPV модели с порогом p=0.5: 0.8811849479583667\n"
     ]
    }
   ],
   "source": [
    "print(f'NPV модели с порогом p=0.5: {get_score(y_test, probas)}')"
   ]
  },
  {
   "cell_type": "markdown",
   "id": "c3d9c04d",
   "metadata": {},
   "source": [
    "Модель верно определяет негативный отзыв примерно в 88% случаев. Вычислим специфичность модели при том же пороге вероятности."
   ]
  },
  {
   "cell_type": "code",
   "execution_count": 16,
   "id": "feaae262",
   "metadata": {},
   "outputs": [
    {
     "name": "stdout",
     "output_type": "stream",
     "text": [
      "Специфичность модели с порогом p=0.5: 0.88048\n"
     ]
    }
   ],
   "source": [
    "print(f'Специфичность модели с порогом p=0.5: {get_score(y_test, probas, score=\"specificity\")}')"
   ]
  },
  {
   "cell_type": "markdown",
   "id": "bcd60517",
   "metadata": {},
   "source": [
    "Это значит, что модель обнаруживает примерно 88% всех негативных отзывов.\n",
    "\n",
    "Попробуем увеличить точность модели на отрицательном классе (**NPV**), уменьшая порог вероятности."
   ]
  },
  {
   "cell_type": "code",
   "execution_count": 17,
   "id": "6c02b1e1",
   "metadata": {},
   "outputs": [
    {
     "name": "stdout",
     "output_type": "stream",
     "text": [
      "NPV модели с порогом p=0.10: 0.9927716286424215\n",
      "NPV модели с порогом p=0.11: 0.9920084121976867\n",
      "NPV модели с порогом p=0.12: 0.9899408284023669\n",
      "NPV модели с порогом p=0.13: 0.9895891429633761\n",
      "NPV модели с порогом p=0.14: 0.988524011299435\n",
      "NPV модели с порогом p=0.15: 0.9875021111298767\n",
      "NPV модели с порогом p=0.16: 0.9844282238442822\n",
      "NPV модели с порогом p=0.17: 0.9837980993924287\n",
      "NPV модели с порогом p=0.18: 0.9823061928325086\n",
      "NPV модели с порогом p=0.19: 0.9804035418783568\n",
      "NPV модели с порогом p=0.20: 0.9789029535864979\n",
      "NPV модели с порогом p=0.21: 0.9765041423332881\n",
      "NPV модели с порогом p=0.22: 0.9747754886423666\n",
      "NPV модели с порогом p=0.23: 0.9720261773386373\n",
      "NPV модели с порогом p=0.24: 0.9710417450169236\n",
      "NPV модели с порогом p=0.25: 0.9695673429479345\n",
      "NPV модели с порогом p=0.26: 0.9665391969407265\n",
      "NPV модели с порогом p=0.27: 0.9635769320569694\n",
      "NPV модели с порогом p=0.28: 0.9615691641008097\n",
      "NPV модели с порогом p=0.29: 0.9580583827312381\n",
      "NPV модели с порогом p=0.30: 0.9568266491343415\n",
      "NPV модели с порогом p=0.31: 0.9540131084130224\n",
      "NPV модели с порогом p=0.32: 0.9517983335091235\n",
      "NPV модели с порогом p=0.33: 0.9481650425046652\n",
      "NPV модели с порогом p=0.34: 0.9454230730068222\n",
      "NPV модели с порогом p=0.35: 0.9428485637073366\n",
      "NPV модели с порогом p=0.36: 0.9398289253760692\n",
      "NPV модели с порогом p=0.37: 0.9375\n",
      "NPV модели с порогом p=0.38: 0.9335554497858163\n",
      "NPV модели с порогом p=0.39: 0.9295616335706257\n",
      "NPV модели с порогом p=0.40: 0.925707438473592\n",
      "NPV модели с порогом p=0.41: 0.9224192814915871\n",
      "NPV модели с порогом p=0.42: 0.9180563026716873\n",
      "NPV модели с порогом p=0.43: 0.9134275618374559\n",
      "NPV модели с порогом p=0.44: 0.9088776928422516\n",
      "NPV модели с порогом p=0.45: 0.9045863694813545\n",
      "NPV модели с порогом p=0.46: 0.9006768189509307\n",
      "NPV модели с порогом p=0.47: 0.8956369400183533\n",
      "NPV модели с порогом p=0.48: 0.8902669404517454\n",
      "NPV модели с порогом p=0.49: 0.8856031758891679\n"
     ]
    }
   ],
   "source": [
    "thresholds = np.arange(0.1, 0.5, 0.01)\n",
    "for p in thresholds:\n",
    "    print(f'NPV модели с порогом p={p:.2f}: {get_score(y_test, probas, threshold=p)}')"
   ]
  },
  {
   "cell_type": "markdown",
   "id": "fc6b46da",
   "metadata": {},
   "source": [
    "Видим, что при пороге *p=0.32* и меньше **NPV** превышает 95%. Построим матрицу ошибок для данного порога."
   ]
  },
  {
   "cell_type": "code",
   "execution_count": 18,
   "id": "7a9dff96",
   "metadata": {},
   "outputs": [],
   "source": [
    "def plot_confusion_matrix(y_true: np.array, y_pred_proba: np.array, threshold: np.float32=0.5):\n",
    "    confusion_matrix = get_score(y_true, y_pred_proba, 'confusion_matrix', threshold)\n",
    "    sns.heatmap(confusion_matrix, cmap='viridis', annot=confusion_matrix, cbar=False, fmt='n',\n",
    "                     xticklabels=['y = 1', 'y = 0'], yticklabels=['ŷ = 1', 'ŷ = 0'])\n",
    "    sns.set(rc={'font.size': 20, 'xtick.labelsize': 'medium', 'ytick.labelsize': 'medium', 'xtick.labeltop': True,\n",
    "               'xtick.labelbottom': False, 'figure.figsize': (10, 8)})"
   ]
  },
  {
   "cell_type": "code",
   "execution_count": 20,
   "id": "dab8e758",
   "metadata": {},
   "outputs": [
    {
     "data": {
      "image/png": "[encoded data removed]",
      "text/plain": [
       "<Figure size 720x576 with 1 Axes>"
      ]
     },
     "metadata": {},
     "output_type": "display_data"
    }
   ],
   "source": [
    "plot_confusion_matrix(y_test, probas, 0.32)"
   ]
  },
  {
   "cell_type": "code",
   "execution_count": 21,
   "id": "ea441e11",
   "metadata": {},
   "outputs": [
    {
     "name": "stdout",
     "output_type": "stream",
     "text": [
      "Специфичность модели с порогом p=0.32: 0.72192\n"
     ]
    }
   ],
   "source": [
    "print(f'Специфичность модели с порогом p=0.32: {9024/(9024+3476)}')"
   ]
  },
  {
   "cell_type": "markdown",
   "id": "dd2872fa",
   "metadata": {},
   "source": [
    "При высокой точности на отрицательном классе, модель обнаруживает примерно 72% всех негативных отзывов.\n",
    "\n",
    "Посмотрим на метрики модели для положительного класса."
   ]
  },
  {
   "cell_type": "code",
   "execution_count": 22,
   "id": "9f08f360",
   "metadata": {},
   "outputs": [
    {
     "name": "stdout",
     "output_type": "stream",
     "text": [
      "Точность модели на положительном классе (precision) с порогом p=0.32: 0.7760164959082415\n"
     ]
    }
   ],
   "source": [
    "print(f'Точность модели на положительном классе (precision) с порогом p=0.32: {12043/(12043+3476)}')"
   ]
  },
  {
   "cell_type": "markdown",
   "id": "ccaaea7d",
   "metadata": {},
   "source": [
    "Модель верно определяет положительный отзыв примерно в 78% случаев."
   ]
  },
  {
   "cell_type": "code",
   "execution_count": 23,
   "id": "fe3e7944",
   "metadata": {},
   "outputs": [
    {
     "name": "stdout",
     "output_type": "stream",
     "text": [
      "Полнота модели (recall) с порогом p=0.32: 0.96344\n"
     ]
    }
   ],
   "source": [
    "print(f'Полнота модели (recall) с порогом p=0.32: {12043/(12043+457)}')"
   ]
  },
  {
   "cell_type": "markdown",
   "id": "215337f6",
   "metadata": {},
   "source": [
    "Модель находит примерно 96% всех положительных отзывов, однако этот показатель сам по себе (равно как и специфичность) не особо полезен, т.к. *precision* модели достаточно низок."
   ]
  },
  {
   "cell_type": "markdown",
   "id": "383446af",
   "metadata": {},
   "source": [
    "Изобразим наиболее \"тяжеловесные\" токены в датасете."
   ]
  },
  {
   "cell_type": "code",
   "execution_count": 24,
   "id": "0a3a5d16",
   "metadata": {},
   "outputs": [],
   "source": [
    "def visualize_coefficients(classifier, feature_names, n_top_features=25):\n",
    "    coefs = classifier.coef_.ravel()\n",
    "    pos_coefs = np.argsort(coefs)[-n_top_features:]\n",
    "    neg_coefs = np.argsort(coefs)[:n_top_features]\n",
    "    coefs_to_show = np.hstack([neg_coefs, pos_coefs])\n",
    "    colors = ['red' if i<0 else 'blue' for i in coefs[coefs_to_show]]\n",
    "    plt.bar(np.arange(2*n_top_features), coefs[coefs_to_show], color=colors)\n",
    "    feature_names = np.array(feature_names)\n",
    "    plt.xticks(np.arange(1, 2*n_top_features+1), feature_names[coefs_to_show], rotation=60, ha='right')\n",
    "    sns.set(rc={'font.size': 13, 'xtick.labelsize': 'medium', 'ytick.labelsize': 'medium', 'figure.figsize': (14, 10),\n",
    "                'xtick.labeltop': False, 'xtick.labelbottom': True})"
   ]
  },
  {
   "cell_type": "code",
   "execution_count": 26,
   "id": "a1b1a2fa",
   "metadata": {},
   "outputs": [
    {
     "data": {
      "image/png": "[encoded data removed]",
      "text/plain": [
       "<Figure size 1008x720 with 1 Axes>"
      ]
     },
     "metadata": {},
     "output_type": "display_data"
    }
   ],
   "source": [
    "logit = LogisticRegression(C=1, max_iter=1000, n_jobs=-1).fit(X_train_tfidf, y_train)\n",
    "visualize_coefficients(logit, vectorizer.get_feature_names())"
   ]
  }
 ],
 "metadata": {
  "kernelspec": {
   "display_name": "Python 3",
   "language": "python",
   "name": "python3"
  },
  "language_info": {
   "codemirror_mode": {
    "name": "ipython",
    "version": 3
   },
   "file_extension": ".py",
   "mimetype": "text/x-python",
   "name": "python",
   "nbconvert_exporter": "python",
   "pygments_lexer": "ipython3",
   "version": "3.9.5"
  }
 },
 "nbformat": 4,
 "nbformat_minor": 5
}
